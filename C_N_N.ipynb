{
 "cells": [
  {
   "cell_type": "code",
   "execution_count": 2,
   "id": "7e61b849",
   "metadata": {},
   "outputs": [
    {
     "name": "stdout",
     "output_type": "stream",
     "text": [
      "WARNING:tensorflow:From C:\\Users\\PC\\anaconda3\\lib\\site-packages\\keras\\src\\losses.py:2976: The name tf.losses.sparse_softmax_cross_entropy is deprecated. Please use tf.compat.v1.losses.sparse_softmax_cross_entropy instead.\n",
      "\n"
     ]
    }
   ],
   "source": [
    "# importing necessary libraries \n",
    "import tensorflow as tf\n",
    "import keras"
   ]
  },
  {
   "cell_type": "code",
   "execution_count": 3,
   "id": "b0c3cfc4",
   "metadata": {},
   "outputs": [],
   "source": [
    "from keras.preprocessing.image import ImageDataGenerator"
   ]
  },
  {
   "cell_type": "code",
   "execution_count": 4,
   "id": "544dbeb3",
   "metadata": {},
   "outputs": [],
   "source": [
    "# Set up ImageDataGenerator for data augmentation and preprocessing\n",
    "train_datagen = ImageDataGenerator(rescale=1/255, # Rescale pixel values to the range [0, 1]\n",
    "                                  shear_range=0.2,# Apply random shearing transformations\n",
    "                                  zoom_range=0.2)# Apply random zooming transformations"
   ]
  },
  {
   "cell_type": "markdown",
   "id": "ec044886",
   "metadata": {},
   "source": [
    "**Importing Training data**"
   ]
  },
  {
   "cell_type": "code",
   "execution_count": 5,
   "id": "dbbb42fb",
   "metadata": {},
   "outputs": [
    {
     "name": "stdout",
     "output_type": "stream",
     "text": [
      "Found 8048 images belonging to 2 classes.\n"
     ]
    }
   ],
   "source": [
    "training_set = train_datagen.flow_from_directory('dataset/training_set',\n",
    "                                                target_size=(64,64),\n",
    "                                                class_mode='binary')"
   ]
  },
  {
   "cell_type": "code",
   "execution_count": 6,
   "id": "6bae3d89",
   "metadata": {},
   "outputs": [
    {
     "data": {
      "text/plain": [
       "{'cats': 0, 'dogs': 1}"
      ]
     },
     "execution_count": 6,
     "metadata": {},
     "output_type": "execute_result"
    }
   ],
   "source": [
    "training_set.class_indices"
   ]
  },
  {
   "cell_type": "markdown",
   "id": "2b57f44d",
   "metadata": {},
   "source": [
    "**Dog and Cat are indicated as 1 and 0 respectively.**"
   ]
  },
  {
   "cell_type": "markdown",
   "id": "be7d3913",
   "metadata": {},
   "source": [
    "**Importing Testing data**"
   ]
  },
  {
   "cell_type": "code",
   "execution_count": 7,
   "id": "f0ccddc5",
   "metadata": {},
   "outputs": [],
   "source": [
    "test_datagen = ImageDataGenerator(rescale=1/255)"
   ]
  },
  {
   "cell_type": "code",
   "execution_count": 8,
   "id": "b120fe39",
   "metadata": {},
   "outputs": [
    {
     "name": "stdout",
     "output_type": "stream",
     "text": [
      "Found 2000 images belonging to 2 classes.\n"
     ]
    }
   ],
   "source": [
    "testing_set = test_datagen.flow_from_directory('dataset/test_set',\n",
    "                                              target_size=(64,64),\n",
    "                                              class_mode='binary')"
   ]
  },
  {
   "cell_type": "code",
   "execution_count": 9,
   "id": "02776792",
   "metadata": {},
   "outputs": [
    {
     "data": {
      "text/plain": [
       "{'cats': 0, 'dogs': 1}"
      ]
     },
     "execution_count": 9,
     "metadata": {},
     "output_type": "execute_result"
    }
   ],
   "source": [
    "testing_set.class_indices"
   ]
  },
  {
   "cell_type": "code",
   "execution_count": 12,
   "id": "8545b403",
   "metadata": {},
   "outputs": [
    {
     "name": "stdout",
     "output_type": "stream",
     "text": [
      "WARNING:tensorflow:From C:\\Users\\PC\\anaconda3\\lib\\site-packages\\keras\\src\\backend.py:873: The name tf.get_default_graph is deprecated. Please use tf.compat.v1.get_default_graph instead.\n",
      "\n"
     ]
    }
   ],
   "source": [
    "from keras.models import Sequential\n",
    "classifier = Sequential()"
   ]
  },
  {
   "cell_type": "markdown",
   "id": "4c250b7b",
   "metadata": {},
   "source": [
    "**step 1- Convolution**"
   ]
  },
  {
   "cell_type": "code",
   "execution_count": 13,
   "id": "3f2c0aba",
   "metadata": {},
   "outputs": [],
   "source": [
    "from keras.layers import Conv2D\n",
    "classifier.add(Conv2D(input_shape=[64,64,3], filters=32,kernel_size=3,activation='relu'))"
   ]
  },
  {
   "cell_type": "markdown",
   "id": "ddf6124b",
   "metadata": {},
   "source": [
    "**Step 2 - Max Pooling**"
   ]
  },
  {
   "cell_type": "code",
   "execution_count": 14,
   "id": "2776b16e",
   "metadata": {},
   "outputs": [
    {
     "name": "stdout",
     "output_type": "stream",
     "text": [
      "WARNING:tensorflow:From C:\\Users\\PC\\anaconda3\\lib\\site-packages\\keras\\src\\layers\\pooling\\max_pooling2d.py:161: The name tf.nn.max_pool is deprecated. Please use tf.nn.max_pool2d instead.\n",
      "\n"
     ]
    }
   ],
   "source": [
    "from keras.layers import MaxPooling2D\n",
    "classifier.add(MaxPooling2D(pool_size=2,strides=2))"
   ]
  },
  {
   "cell_type": "markdown",
   "id": "c3902eef",
   "metadata": {},
   "source": [
    "**Step 3 - Flattening**"
   ]
  },
  {
   "cell_type": "code",
   "execution_count": 15,
   "id": "a9cfca21",
   "metadata": {},
   "outputs": [],
   "source": [
    "from keras.layers import Flatten\n",
    "classifier.add(Flatten())"
   ]
  },
  {
   "cell_type": "markdown",
   "id": "56cf4562",
   "metadata": {},
   "source": [
    "**Step 4- Full Connection**"
   ]
  },
  {
   "cell_type": "code",
   "execution_count": 16,
   "id": "909f8b2a",
   "metadata": {},
   "outputs": [],
   "source": [
    "from keras.layers import Dense\n",
    "\n",
    "# Hidden layers wth 128 neurons\n",
    "classifier.add(Dense(units=128,activation='relu'))\n",
    "\n",
    "#output layer \n",
    "classifier.add(Dense(units=1,activation='sigmoid'))"
   ]
  },
  {
   "cell_type": "code",
   "execution_count": 17,
   "id": "4eac3326",
   "metadata": {},
   "outputs": [
    {
     "name": "stdout",
     "output_type": "stream",
     "text": [
      "WARNING:tensorflow:From C:\\Users\\PC\\anaconda3\\lib\\site-packages\\keras\\src\\optimizers\\__init__.py:309: The name tf.train.Optimizer is deprecated. Please use tf.compat.v1.train.Optimizer instead.\n",
      "\n"
     ]
    }
   ],
   "source": [
    "classifier.compile(optimizer='adam',loss='binary_crossentropy',metrics=['accuracy'])"
   ]
  },
  {
   "cell_type": "code",
   "execution_count": 18,
   "id": "0d4e6ee3",
   "metadata": {},
   "outputs": [
    {
     "name": "stdout",
     "output_type": "stream",
     "text": [
      "Epoch 1/25\n",
      "WARNING:tensorflow:From C:\\Users\\PC\\anaconda3\\lib\\site-packages\\keras\\src\\utils\\tf_utils.py:492: The name tf.ragged.RaggedTensorValue is deprecated. Please use tf.compat.v1.ragged.RaggedTensorValue instead.\n",
      "\n",
      "WARNING:tensorflow:From C:\\Users\\PC\\anaconda3\\lib\\site-packages\\keras\\src\\engine\\base_layer_utils.py:384: The name tf.executing_eagerly_outside_functions is deprecated. Please use tf.compat.v1.executing_eagerly_outside_functions instead.\n",
      "\n",
      "252/252 [==============================] - 52s 200ms/step - loss: 0.6893 - accuracy: 0.6126 - val_loss: 0.6423 - val_accuracy: 0.6385\n",
      "Epoch 2/25\n",
      "252/252 [==============================] - 52s 205ms/step - loss: 0.5732 - accuracy: 0.7066 - val_loss: 0.5637 - val_accuracy: 0.7225\n",
      "Epoch 3/25\n",
      "252/252 [==============================] - 56s 222ms/step - loss: 0.5375 - accuracy: 0.7296 - val_loss: 0.5727 - val_accuracy: 0.7160\n",
      "Epoch 4/25\n",
      "252/252 [==============================] - 54s 215ms/step - loss: 0.5164 - accuracy: 0.7399 - val_loss: 0.5471 - val_accuracy: 0.7360\n",
      "Epoch 5/25\n",
      "252/252 [==============================] - 53s 211ms/step - loss: 0.5022 - accuracy: 0.7479 - val_loss: 0.5505 - val_accuracy: 0.7440\n",
      "Epoch 6/25\n",
      "252/252 [==============================] - 58s 230ms/step - loss: 0.4854 - accuracy: 0.7679 - val_loss: 0.5771 - val_accuracy: 0.7355\n",
      "Epoch 7/25\n",
      "252/252 [==============================] - 62s 247ms/step - loss: 0.4612 - accuracy: 0.7732 - val_loss: 0.5471 - val_accuracy: 0.7410\n",
      "Epoch 8/25\n",
      "252/252 [==============================] - 75s 297ms/step - loss: 0.4364 - accuracy: 0.7965 - val_loss: 0.5704 - val_accuracy: 0.7485\n",
      "Epoch 9/25\n",
      "252/252 [==============================] - 68s 268ms/step - loss: 0.4220 - accuracy: 0.8031 - val_loss: 0.6073 - val_accuracy: 0.7330\n",
      "Epoch 10/25\n",
      "252/252 [==============================] - 120s 477ms/step - loss: 0.4078 - accuracy: 0.8121 - val_loss: 0.5393 - val_accuracy: 0.7530\n",
      "Epoch 11/25\n",
      "252/252 [==============================] - 193s 768ms/step - loss: 0.3708 - accuracy: 0.8336 - val_loss: 0.6559 - val_accuracy: 0.7355\n",
      "Epoch 12/25\n",
      "252/252 [==============================] - 116s 461ms/step - loss: 0.3592 - accuracy: 0.8386 - val_loss: 0.5750 - val_accuracy: 0.7515\n",
      "Epoch 13/25\n",
      "252/252 [==============================] - 56s 224ms/step - loss: 0.3366 - accuracy: 0.8545 - val_loss: 0.6400 - val_accuracy: 0.7570\n",
      "Epoch 14/25\n",
      "252/252 [==============================] - 59s 233ms/step - loss: 0.3146 - accuracy: 0.8625 - val_loss: 0.6723 - val_accuracy: 0.7400\n",
      "Epoch 15/25\n",
      "252/252 [==============================] - 53s 209ms/step - loss: 0.2884 - accuracy: 0.8762 - val_loss: 0.7018 - val_accuracy: 0.7380\n",
      "Epoch 16/25\n",
      "252/252 [==============================] - 58s 230ms/step - loss: 0.2757 - accuracy: 0.8806 - val_loss: 0.6821 - val_accuracy: 0.7550\n",
      "Epoch 17/25\n",
      "252/252 [==============================] - 60s 237ms/step - loss: 0.2575 - accuracy: 0.8945 - val_loss: 0.7047 - val_accuracy: 0.7400\n",
      "Epoch 18/25\n",
      "252/252 [==============================] - 62s 245ms/step - loss: 0.2247 - accuracy: 0.9100 - val_loss: 0.7964 - val_accuracy: 0.7305\n",
      "Epoch 19/25\n",
      "252/252 [==============================] - 79s 314ms/step - loss: 0.2204 - accuracy: 0.9124 - val_loss: 0.7578 - val_accuracy: 0.7555\n",
      "Epoch 20/25\n",
      "252/252 [==============================] - 79s 314ms/step - loss: 0.2057 - accuracy: 0.9179 - val_loss: 0.8105 - val_accuracy: 0.7465\n",
      "Epoch 21/25\n",
      "252/252 [==============================] - 74s 295ms/step - loss: 0.1809 - accuracy: 0.9262 - val_loss: 0.8147 - val_accuracy: 0.7595\n",
      "Epoch 22/25\n",
      "252/252 [==============================] - 78s 311ms/step - loss: 0.1734 - accuracy: 0.9330 - val_loss: 0.8620 - val_accuracy: 0.7405\n",
      "Epoch 23/25\n",
      "252/252 [==============================] - 75s 299ms/step - loss: 0.1631 - accuracy: 0.9371 - val_loss: 0.8232 - val_accuracy: 0.7545\n",
      "Epoch 24/25\n",
      "252/252 [==============================] - 76s 303ms/step - loss: 0.1571 - accuracy: 0.9401 - val_loss: 0.8710 - val_accuracy: 0.7555\n",
      "Epoch 25/25\n",
      "252/252 [==============================] - 76s 300ms/step - loss: 0.1396 - accuracy: 0.9487 - val_loss: 0.9414 - val_accuracy: 0.7580\n"
     ]
    },
    {
     "data": {
      "text/plain": [
       "<keras.src.callbacks.History at 0x2036cb73640>"
      ]
     },
     "execution_count": 18,
     "metadata": {},
     "output_type": "execute_result"
    }
   ],
   "source": [
    "classifier.fit(x= training_set,validation_data = testing_set,epochs=25)"
   ]
  },
  {
   "cell_type": "markdown",
   "id": "2b5ea91a",
   "metadata": {},
   "source": [
    "# Evolution "
   ]
  },
  {
   "cell_type": "code",
   "execution_count": 19,
   "id": "3ce4e313",
   "metadata": {},
   "outputs": [],
   "source": [
    "import numpy as np\n",
    "from PIL import Image"
   ]
  },
  {
   "cell_type": "code",
   "execution_count": 26,
   "id": "ff9d5be5",
   "metadata": {},
   "outputs": [
    {
     "name": "stdout",
     "output_type": "stream",
     "text": [
      "1/1 [==============================] - 0s 41ms/step\n",
      "CAt\n"
     ]
    }
   ],
   "source": [
    "test_image = Image.open(\"dataset/single_prediction/cat_or_dog_2.jpg\")\n",
    "\n",
    "# data preprocessing\n",
    "test_image = test_image.resize((64,64))\n",
    "test_image = np.array(test_image)\n",
    "test_image = np.expand_dims(test_image,axis=0)\n",
    "\n",
    "# Prediction\n",
    "result = classifier.predict(test_image)\n",
    "\n",
    "# Evaluation\n",
    "\n",
    "if result[0][0]==1:\n",
    "    print(\"Dog\")\n",
    "else:\n",
    "    print(\"CAt\")"
   ]
  }
 ],
 "metadata": {
  "kernelspec": {
   "display_name": "Python 3 (ipykernel)",
   "language": "python",
   "name": "python3"
  },
  "language_info": {
   "codemirror_mode": {
    "name": "ipython",
    "version": 3
   },
   "file_extension": ".py",
   "mimetype": "text/x-python",
   "name": "python",
   "nbconvert_exporter": "python",
   "pygments_lexer": "ipython3",
   "version": "3.9.13"
  }
 },
 "nbformat": 4,
 "nbformat_minor": 5
}
